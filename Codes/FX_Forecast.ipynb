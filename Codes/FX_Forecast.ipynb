{
  "nbformat": 4,
  "nbformat_minor": 0,
  "metadata": {
    "colab": {
      "provenance": [],
      "collapsed_sections": []
    },
    "kernelspec": {
      "name": "python3",
      "display_name": "Python 3"
    },
    "language_info": {
      "name": "python"
    }
  },
  "cells": [
    {
      "cell_type": "code",
      "execution_count": 113,
      "metadata": {
        "id": "wq6eSavYd3lr"
      },
      "outputs": [],
      "source": [
        "import numpy as np \n",
        "import pandas as pd\n",
        "import matplotlib.pyplot as plt \n",
        "import csv \n",
        "import pandas as pd\n",
        "import glob\n",
        "import os\n",
        "from datetime import date\n",
        "from datetime import datetime\n",
        "from matplotlib.dates import date2num, DateFormatter\n",
        "import datetime as dt"
      ]
    },
    {
      "cell_type": "code",
      "source": [
        "files = os.path.join(\"/content/Exchange_files\", \"Exchange_Rate_Report_*.csv\")\n",
        "\n",
        "files = glob.glob(files)\n",
        "\n",
        "print(\"Resultant CSV after joining all CSV files at a particular location...\");\n",
        "\n",
        "df = pd.concat(map(pd.read_csv, files), ignore_index=True)\n",
        "\n",
        "dates = np.array(df['Date'])\n",
        "for col in df.columns:\n",
        "  df[col.strip()] = df[col]\n",
        "  df.drop(columns = [col], inplace=True)"
      ],
      "metadata": {
        "colab": {
          "base_uri": "https://localhost:8080/"
        },
        "id": "J1J2qLcf7vLZ",
        "outputId": "780b9827-4b05-43ba-b527-48a26bff549a"
      },
      "execution_count": 114,
      "outputs": [
        {
          "output_type": "stream",
          "name": "stdout",
          "text": [
            "Resultant CSV after joining all CSV files at a particular location...\n"
          ]
        }
      ]
    },
    {
      "cell_type": "code",
      "source": [
        "df['Date'] = dates\n",
        "df['Date']= pd.to_datetime(df['Date'])"
      ],
      "metadata": {
        "id": "IF6DZhXgDVAs"
      },
      "execution_count": 115,
      "outputs": []
    },
    {
      "cell_type": "code",
      "source": [
        "sday=int(input(\"Enter the start day\"))\n",
        "smonth = int(input(\"Enter the start month\"))\n",
        "syear = int(input(\"Enter the start year\"))\n",
        "start_date = date(syear, smonth, sday)\n",
        "eday=int(input(\"Enter the end day\"))\n",
        "emonth = int(input(\"Enter the end month\"))\n",
        "eyear = int(input(\"Enter the end year\"))\n",
        "end_date = date(eyear, emonth, eday)"
      ],
      "metadata": {
        "colab": {
          "base_uri": "https://localhost:8080/"
        },
        "id": "Wjw2zdx0AOu-",
        "outputId": "6c3d7141-b84a-4d05-eda9-485b5225974d"
      },
      "execution_count": 117,
      "outputs": [
        {
          "name": "stdout",
          "output_type": "stream",
          "text": [
            "Enter the start day04\n",
            "Enter the start month06\n",
            "Enter the start year2012\n",
            "Enter the end day21\n",
            "Enter the end month06\n",
            "Enter the end year2017\n"
          ]
        }
      ]
    },
    {
      "cell_type": "code",
      "source": [
        "filtered = df.loc[(df['Date'] >= '2012-04-01') & (df['Date'] < '2013-04-01')]\n",
        "print(filtered)"
      ],
      "metadata": {
        "colab": {
          "base_uri": "https://localhost:8080/"
        },
        "id": "t3mf9cR7HEk9",
        "outputId": "726a6e09-aa27-474f-a9aa-928446a34718"
      },
      "execution_count": 118,
      "outputs": [
        {
          "output_type": "stream",
          "name": "stdout",
          "text": [
            "      Algerian dinar   (DZD)  Australian dollar   (AUD)  \\\n",
            "718                  74.1345                   0.962371   \n",
            "719                  74.1274                   0.961446   \n",
            "720                  74.4900                   0.972479   \n",
            "721                  74.6394                   0.970497   \n",
            "722                  74.6287                        NaN   \n",
            "...                      ...                        ...   \n",
            "1705                 78.7405                   0.956938   \n",
            "1706                 78.9307                   0.955840   \n",
            "1707                     NaN                   0.955475   \n",
            "1708                 79.0480                   0.959141   \n",
            "1709                 79.0278                        NaN   \n",
            "\n",
            "      Bahrain dinar   (BHD)  Bolivar Fuerte   (VEF)  Bolivar Soberano   (VES)  \\\n",
            "718                   0.376                  4.2893                       NaN   \n",
            "719                   0.376                  4.2893                       NaN   \n",
            "720                   0.376                  4.2893                       NaN   \n",
            "721                   0.376                  4.2893                       NaN   \n",
            "722                   0.376                  4.2893                       NaN   \n",
            "...                     ...                     ...                       ...   \n",
            "1705                  0.376                  6.2842                       NaN   \n",
            "1706                    NaN                  6.2842                       NaN   \n",
            "1707                  0.376                  6.2842                       NaN   \n",
            "1708                  0.376                  6.2842                       NaN   \n",
            "1709                  0.376                  6.2842                       NaN   \n",
            "\n",
            "      Botswana pula   (BWP)  Brazilian real   (BRL)  Brunei dollar   (BND)  \\\n",
            "718                7.262164                  1.8221                 1.2553   \n",
            "719                7.267442                  1.8314                 1.2515   \n",
            "720                7.374631                  1.8256                 1.2571   \n",
            "721                7.390983                  1.8316                 1.2579   \n",
            "722                     NaN                  1.8301                    NaN   \n",
            "...                     ...                     ...                    ...   \n",
            "1705               8.257638                  2.0126                 1.2453   \n",
            "1706               8.257638                  2.0140                 1.2411   \n",
            "1707               8.278146                  2.0087                 1.2431   \n",
            "1708               8.250825                  2.0185                 1.2436   \n",
            "1709                    NaN                  2.0138                    NaN   \n",
            "\n",
            "      Canadian dollar   (CAD)  Chilean peso   (CLP)  ...  \\\n",
            "718                    0.9917                487.44  ...   \n",
            "719                    0.9910                485.76  ...   \n",
            "720                    0.9962                482.17  ...   \n",
            "721                    0.9928                483.78  ...   \n",
            "722                       NaN                   NaN  ...   \n",
            "...                       ...                   ...  ...   \n",
            "1705                   1.0218                472.77  ...   \n",
            "1706                   1.0166                472.60  ...   \n",
            "1707                      NaN                472.61  ...   \n",
            "1708                   1.0156                472.54  ...   \n",
            "1709                      NaN                472.54  ...   \n",
            "\n",
            "      Swedish krona   (SEK)  Swiss franc   (CHF)  Thai baht   (THB)  \\\n",
            "718                  6.6046               0.9027             30.808   \n",
            "719                  6.5904               0.9021             30.806   \n",
            "720                  6.6687               0.9141             30.964   \n",
            "721                  6.7010               0.9191             31.003   \n",
            "722                     NaN                  NaN                NaN   \n",
            "...                     ...                  ...                ...   \n",
            "1705                 6.4816               0.9408             29.254   \n",
            "1706                 6.5129               0.9489             29.351   \n",
            "1707                 6.4886               0.9528             29.317   \n",
            "1708                 6.5162               0.9521             29.254   \n",
            "1709                    NaN               0.9521             29.302   \n",
            "\n",
            "      Trinidadian dollar   (TTD)  Tunisian dinar   (TND)  \\\n",
            "718                          NaN                  1.5050   \n",
            "719                       6.4114                     NaN   \n",
            "720                       6.4159                  1.5055   \n",
            "721                       6.4118                  1.5207   \n",
            "722                       6.3929                  1.5254   \n",
            "...                          ...                     ...   \n",
            "1705                      6.4291                  1.5824   \n",
            "1706                      6.4291                  1.5811   \n",
            "1707                      6.4278                  1.5890   \n",
            "1708                      6.4142                  1.5957   \n",
            "1709                      6.4095                  1.5930   \n",
            "\n",
            "      U.A.E. dirham   (AED)  U.K. pound   (GBP)  U.S. dollar   (USD)  \\\n",
            "718                  3.6725            0.623441                    1   \n",
            "719                  3.6725            0.624337                    1   \n",
            "720                  3.6725            0.630001                    1   \n",
            "721                  3.6725            0.631991                    1   \n",
            "722                  3.6725                 NaN                    1   \n",
            "...                     ...                 ...                  ...   \n",
            "1705                 3.6725            0.657160                    1   \n",
            "1706                 3.6725            0.660328                    1   \n",
            "1707                 3.6725            0.662383                    1   \n",
            "1708                 3.6725            0.661288                    1   \n",
            "1709                 3.6725                 NaN                    1   \n",
            "\n",
            "      Uruguayan peso   (UYU)       Date  \n",
            "718                   19.501 2012-04-02  \n",
            "719                   19.482 2012-04-03  \n",
            "720                   19.487 2012-04-04  \n",
            "721                      NaN 2012-04-05  \n",
            "722                      NaN 2012-04-06  \n",
            "...                      ...        ...  \n",
            "1705                  18.945 2013-03-25  \n",
            "1706                  18.828 2013-03-26  \n",
            "1707                     NaN 2013-03-27  \n",
            "1708                     NaN 2013-03-28  \n",
            "1709                     NaN 2013-03-29  \n",
            "\n",
            "[248 rows x 53 columns]\n"
          ]
        }
      ]
    },
    {
      "cell_type": "code",
      "source": [
        "pip install inquirer"
      ],
      "metadata": {
        "colab": {
          "base_uri": "https://localhost:8080/"
        },
        "id": "-1g9v6x_P_kk",
        "outputId": "c054335c-aeba-4984-8efb-aac0a4d46245"
      },
      "execution_count": 119,
      "outputs": [
        {
          "output_type": "stream",
          "name": "stdout",
          "text": [
            "Looking in indexes: https://pypi.org/simple, https://us-python.pkg.dev/colab-wheels/public/simple/\n",
            "Requirement already satisfied: inquirer in /usr/local/lib/python3.7/dist-packages (2.10.0)\n",
            "Requirement already satisfied: blessed>=1.19.0 in /usr/local/lib/python3.7/dist-packages (from inquirer) (1.19.1)\n",
            "Requirement already satisfied: python-editor>=1.0.4 in /usr/local/lib/python3.7/dist-packages (from inquirer) (1.0.4)\n",
            "Requirement already satisfied: readchar>=3.0.6 in /usr/local/lib/python3.7/dist-packages (from inquirer) (4.0.3)\n",
            "Requirement already satisfied: six>=1.9.0 in /usr/local/lib/python3.7/dist-packages (from blessed>=1.19.0->inquirer) (1.15.0)\n",
            "Requirement already satisfied: wcwidth>=0.1.4 in /usr/local/lib/python3.7/dist-packages (from blessed>=1.19.0->inquirer) (0.2.5)\n",
            "Requirement already satisfied: setuptools>=41.0 in /usr/local/lib/python3.7/dist-packages (from readchar>=3.0.6->inquirer) (57.4.0)\n"
          ]
        }
      ]
    },
    {
      "cell_type": "code",
      "source": [
        "curr = []\n",
        "for c in df.columns:\n",
        "  curr.append(c)"
      ],
      "metadata": {
        "id": "S0YZtozSA3Of"
      },
      "execution_count": 120,
      "outputs": []
    },
    {
      "cell_type": "code",
      "source": [
        "user_input = ''\n",
        "input_message = \"Pick a currency:\\n\"\n",
        "\n",
        "for index, item in enumerate(curr):\n",
        "    input_message += f'{index+1}) {item}\\n'\n",
        "\n",
        "input_message += 'Your choice: '\n",
        "\n",
        "while user_input not in curr:\n",
        "    user_input = input(input_message)\n",
        "\n",
        "print('You picked: ' + user_input)\n",
        "\n",
        "y = filtered[user_input]"
      ],
      "metadata": {
        "colab": {
          "base_uri": "https://localhost:8080/"
        },
        "id": "KrmFCJ98O-Ox",
        "outputId": "9bdfc871-e4b5-4742-b032-70934a9146dd"
      },
      "execution_count": 123,
      "outputs": [
        {
          "output_type": "stream",
          "name": "stdout",
          "text": [
            "Pick a currency:\n",
            "1) Algerian dinar   (DZD)\n",
            "2) Australian dollar   (AUD)\n",
            "3) Bahrain dinar   (BHD)\n",
            "4) Bolivar Fuerte   (VEF)\n",
            "5) Bolivar Soberano   (VES)\n",
            "6) Botswana pula   (BWP)\n",
            "7) Brazilian real   (BRL)\n",
            "8) Brunei dollar   (BND)\n",
            "9) Canadian dollar   (CAD)\n",
            "10) Chilean peso   (CLP)\n",
            "11) Chinese yuan   (CNY)\n",
            "12) Colombian peso   (COP)\n",
            "13) Czech koruna   (CZK)\n",
            "14) Danish krone   (DKK)\n",
            "15) Euro   (EUR)\n",
            "16) Hungarian forint   (HUF)\n",
            "17) Icelandic krona   (ISK)\n",
            "18) Indian rupee   (INR)\n",
            "19) Indonesian rupiah   (IDR)\n",
            "20) Iranian rial   (IRR)\n",
            "21) Israeli New Shekel   (ILS)\n",
            "22) Japanese yen   (JPY)\n",
            "23) Kazakhstani tenge   (KZT)\n",
            "24) Korean won   (KRW)\n",
            "25) Kuwaiti dinar   (KWD)\n",
            "26) Libyan dinar   (LYD)\n",
            "27) Malaysian ringgit   (MYR)\n",
            "28) Mauritian rupee   (MUR)\n",
            "29) Mexican peso   (MXN)\n",
            "30) Nepalese rupee   (NPR)\n",
            "31) New Zealand dollar   (NZD)\n",
            "32) Norwegian krone   (NOK)\n",
            "33) Omani rial   (OMR)\n",
            "34) Pakistani rupee   (PKR)\n",
            "35) Peruvian sol   (PEN)\n",
            "36) Philippine peso   (PHP)\n",
            "37) Polish zloty   (PLN)\n",
            "38) Qatari riyal   (QAR)\n",
            "39) Russian ruble   (RUB)\n",
            "40) Saudi Arabian riyal   (SAR)\n",
            "41) Singapore dollar   (SGD)\n",
            "42) South African rand   (ZAR)\n",
            "43) Sri Lankan rupee   (LKR)\n",
            "44) Swedish krona   (SEK)\n",
            "45) Swiss franc   (CHF)\n",
            "46) Thai baht   (THB)\n",
            "47) Trinidadian dollar   (TTD)\n",
            "48) Tunisian dinar   (TND)\n",
            "49) U.A.E. dirham   (AED)\n",
            "50) U.K. pound   (GBP)\n",
            "51) U.S. dollar   (USD)\n",
            "52) Uruguayan peso   (UYU)\n",
            "53) Date\n",
            "Your choice: Kazakhstani tenge   (KZT)\n",
            "You picked: Kazakhstani tenge   (KZT)\n"
          ]
        }
      ]
    },
    {
      "cell_type": "code",
      "source": [
        "plt.plot(y,color = \"blue\")"
      ],
      "metadata": {
        "colab": {
          "base_uri": "https://localhost:8080/",
          "height": 282
        },
        "id": "4_Y1TO4_Qudq",
        "outputId": "66fbb84c-c170-425d-978e-28184d523a6a"
      },
      "execution_count": 124,
      "outputs": [
        {
          "output_type": "execute_result",
          "data": {
            "text/plain": [
              "[<matplotlib.lines.Line2D at 0x7f83d7f22dd0>]"
            ]
          },
          "metadata": {},
          "execution_count": 124
        },
        {
          "output_type": "display_data",
          "data": {
            "text/plain": [
              "<Figure size 432x288 with 1 Axes>"
            ],
            "image/png": "[encoded data removed]"
          },
          "metadata": {
            "needs_background": "light"
          }
        }
      ]
    },
    {
      "cell_type": "code",
      "source": [],
      "metadata": {
        "id": "UU-BG1XqTQ6J"
      },
      "execution_count": null,
      "outputs": []
    }
  ]
}